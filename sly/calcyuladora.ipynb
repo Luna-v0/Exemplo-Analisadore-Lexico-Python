{
 "cells": [
  {
   "cell_type": "markdown",
   "id": "137e2f61-9888-4159-907e-ead7a0f08bad",
   "metadata": {},
   "source": [
    "# Exemplo de calculadora usando o SLY"
   ]
  },
  {
   "cell_type": "code",
   "execution_count": 2,
   "id": "660cb783-0585-4f9b-a266-251b522ba310",
   "metadata": {},
   "outputs": [
    {
     "ename": "ModuleNotFoundError",
     "evalue": "No module named 'sly'",
     "output_type": "error",
     "traceback": [
      "\u001b[31m---------------------------------------------------------------------------\u001b[39m",
      "\u001b[31mModuleNotFoundError\u001b[39m                       Traceback (most recent call last)",
      "\u001b[36mCell\u001b[39m\u001b[36m \u001b[39m\u001b[32mIn[2]\u001b[39m\u001b[32m, line 1\u001b[39m\n\u001b[32m----> \u001b[39m\u001b[32m1\u001b[39m \u001b[38;5;28;01mfrom\u001b[39;00m\u001b[38;5;250m \u001b[39m\u001b[34;01msly\u001b[39;00m\u001b[38;5;250m \u001b[39m\u001b[38;5;28;01mimport\u001b[39;00m Lexer, Parser\n",
      "\u001b[31mModuleNotFoundError\u001b[39m: No module named 'sly'"
     ]
    }
   ],
   "source": [
    "from sly import Lexer, Parser"
   ]
  },
  {
   "cell_type": "code",
   "execution_count": null,
   "id": "f1096b31-3b2c-47cf-af23-693403688710",
   "metadata": {},
   "outputs": [],
   "source": [
    "class Mylexer(Lexer):\n",
    "    reservados = {'mais', 'menos','multiplicacao', 'divisao'}\n",
    "\n",
    "    mais = r'\\+'\n",
    "    menos = r'-'\n",
    "    multiplicacao = r'\\*'\n",
    "    divisao = r'/'\n",
    "    numero = r'\\d+'\n",
    "    \n",
    "    def numero(self,t):\n",
    "        t.value = int(t.value)\n",
    "        return t\n",
    "\n",
    "    @_(r'\\n+')\n",
    "    def ignore_newline(self, t):\n",
    "        self.lineno += len(t.value)\n",
    "\n",
    "    def error(self,t):\n",
    "        print(\"Error \",t)"
   ]
  },
  {
   "cell_type": "code",
   "execution_count": null,
   "id": "1e6ec684-a39a-49da-807d-26699bc78806",
   "metadata": {},
   "outputs": [],
   "source": [
    "lexer = MyLexer()"
   ]
  },
  {
   "cell_type": "code",
   "execution_count": null,
   "id": "a53333ce-e269-409b-b2e3-2d133c335e2b",
   "metadata": {},
   "outputs": [],
   "source": [
    "class MyParser(Parser):\n",
    "\n",
    "    tokens = MyLexer.tokens\n",
    "    \n",
    "    @_('numero mais numero',\n",
    "       'numero menos numero',\n",
    "       'numero multiplicacao numero',\n",
    "       'numero')\n",
    "    def expressao(self,regra):\n",
    "        if len(regras) == 1: return regras[0]\n",
    "        else: \n",
    "            if regras[1] == '+':\n",
    "                return regras[0] + regras[2]    \n",
    "            elif regras[1] == '-':\n",
    "                return regras[0] - regras[2]\n",
    "            if regras[1] == '*':\n",
    "                return regras[0] * regras[2]\n",
    "            if regras[1] == '/':\n",
    "                return regras[0] / regras[2]\n",
    "\n",
    "    def error(self,regra):\n",
    "        print(\"Error\", regra)"
   ]
  },
  {
   "cell_type": "code",
   "execution_count": null,
   "id": "03128fbf-1c89-4ec0-a049-69b10cd5b879",
   "metadata": {},
   "outputs": [],
   "source": [
    " parser = MyParser()"
   ]
  },
  {
   "cell_type": "code",
   "execution_count": null,
   "id": "e6c5c258-4df6-4232-bda4-f9932f814cca",
   "metadata": {},
   "outputs": [],
   "source": [
    "parser.parse(\"32+4\") "
   ]
  }
 ],
 "metadata": {
  "kernelspec": {
   "display_name": "Python 3 (ipykernel)",
   "language": "python",
   "name": "python3"
  },
  "language_info": {
   "codemirror_mode": {
    "name": "ipython",
    "version": 3
   },
   "file_extension": ".py",
   "mimetype": "text/x-python",
   "name": "python",
   "nbconvert_exporter": "python",
   "pygments_lexer": "ipython3",
   "version": "3.13.3"
  }
 },
 "nbformat": 4,
 "nbformat_minor": 5
}
